{
 "cells": [
  {
   "cell_type": "code",
   "execution_count": 1,
   "id": "78e8e256",
   "metadata": {
    "ExecuteTime": {
     "end_time": "2023-04-20T11:51:15.795708Z",
     "start_time": "2023-04-20T11:51:10.985520Z"
    }
   },
   "outputs": [],
   "source": [
    "from transformers import AutoModel, AutoTokenizer\n",
    "import torch \n",
    "from peft import LoraConfig, get_peft_model, TaskType"
   ]
  },
  {
   "cell_type": "code",
   "execution_count": 2,
   "id": "0eeb2cec",
   "metadata": {
    "ExecuteTime": {
     "end_time": "2023-04-20T11:51:29.067282Z",
     "start_time": "2023-04-20T11:51:15.798806Z"
    }
   },
   "outputs": [
    {
     "name": "stderr",
     "output_type": "stream",
     "text": [
      "Explicitly passing a `revision` is encouraged when loading a configuration with custom code to ensure no malicious code has been contributed in a newer revision.\n",
      "Explicitly passing a `revision` is encouraged when loading a model with custom code to ensure no malicious code has been contributed in a newer revision.\n"
     ]
    },
    {
     "data": {
      "application/vnd.jupyter.widget-view+json": {
       "model_id": "fc646d8a84ac40619eb73cf108fd67e0",
       "version_major": 2,
       "version_minor": 0
      },
      "text/plain": [
       "Loading checkpoint shards:   0%|          | 0/8 [00:00<?, ?it/s]"
      ]
     },
     "metadata": {},
     "output_type": "display_data"
    },
    {
     "name": "stderr",
     "output_type": "stream",
     "text": [
      "Explicitly passing a `revision` is encouraged when loading a model with custom code to ensure no malicious code has been contributed in a newer revision.\n"
     ]
    }
   ],
   "source": [
    "checkpoint = \"./chatglm-6b\"\n",
    "model = AutoModel.from_pretrained(checkpoint, trust_remote_code=True)\n",
    "tokenizer = AutoTokenizer.from_pretrained(checkpoint, trust_remote_code=True)"
   ]
  },
  {
   "cell_type": "code",
   "execution_count": 3,
   "id": "1ce49b6a",
   "metadata": {
    "ExecuteTime": {
     "end_time": "2023-04-20T11:51:54.118253Z",
     "start_time": "2023-04-20T11:51:29.071336Z"
    }
   },
   "outputs": [
    {
     "name": "stderr",
     "output_type": "stream",
     "text": [
      "/usr/local/lib/python3.8/dist-packages/peft/tuners/lora.py:173: UserWarning: fan_in_fan_out is set to True but the target module is not a Conv1D. Setting fan_in_fan_out to False.\n",
      "  warnings.warn(\n"
     ]
    }
   ],
   "source": [
    "def load_lora_config(model):\n",
    "    config = LoraConfig(task_type=TaskType.CAUSAL_LM,\n",
    "                        inference_mode=False,\n",
    "                        r=8,\n",
    "                        lora_alpha=32,\n",
    "                        lora_dropout=0.1,\n",
    "                        target_modules=[\"query_key_value\"])\n",
    "    return get_peft_model(model, config)\n",
    "\n",
    "\n",
    "model = load_lora_config(model)"
   ]
  },
  {
   "cell_type": "code",
   "execution_count": 4,
   "id": "4d1e311b",
   "metadata": {
    "ExecuteTime": {
     "end_time": "2023-04-20T11:51:56.098347Z",
     "start_time": "2023-04-20T11:51:54.121929Z"
    }
   },
   "outputs": [
    {
     "data": {
      "text/plain": [
       "_IncompatibleKeys(missing_keys=['base_model.model.transformer.word_embeddings.weight', 'base_model.model.transformer.layers.0.input_layernorm.weight', 'base_model.model.transformer.layers.0.input_layernorm.bias', 'base_model.model.transformer.layers.0.attention.query_key_value.weight', 'base_model.model.transformer.layers.0.attention.query_key_value.bias', 'base_model.model.transformer.layers.0.attention.dense.weight', 'base_model.model.transformer.layers.0.attention.dense.bias', 'base_model.model.transformer.layers.0.post_attention_layernorm.weight', 'base_model.model.transformer.layers.0.post_attention_layernorm.bias', 'base_model.model.transformer.layers.0.mlp.dense_h_to_4h.weight', 'base_model.model.transformer.layers.0.mlp.dense_h_to_4h.bias', 'base_model.model.transformer.layers.0.mlp.dense_4h_to_h.weight', 'base_model.model.transformer.layers.0.mlp.dense_4h_to_h.bias', 'base_model.model.transformer.layers.1.input_layernorm.weight', 'base_model.model.transformer.layers.1.input_layernorm.bias', 'base_model.model.transformer.layers.1.attention.query_key_value.weight', 'base_model.model.transformer.layers.1.attention.query_key_value.bias', 'base_model.model.transformer.layers.1.attention.dense.weight', 'base_model.model.transformer.layers.1.attention.dense.bias', 'base_model.model.transformer.layers.1.post_attention_layernorm.weight', 'base_model.model.transformer.layers.1.post_attention_layernorm.bias', 'base_model.model.transformer.layers.1.mlp.dense_h_to_4h.weight', 'base_model.model.transformer.layers.1.mlp.dense_h_to_4h.bias', 'base_model.model.transformer.layers.1.mlp.dense_4h_to_h.weight', 'base_model.model.transformer.layers.1.mlp.dense_4h_to_h.bias', 'base_model.model.transformer.layers.2.input_layernorm.weight', 'base_model.model.transformer.layers.2.input_layernorm.bias', 'base_model.model.transformer.layers.2.attention.query_key_value.weight', 'base_model.model.transformer.layers.2.attention.query_key_value.bias', 'base_model.model.transformer.layers.2.attention.dense.weight', 'base_model.model.transformer.layers.2.attention.dense.bias', 'base_model.model.transformer.layers.2.post_attention_layernorm.weight', 'base_model.model.transformer.layers.2.post_attention_layernorm.bias', 'base_model.model.transformer.layers.2.mlp.dense_h_to_4h.weight', 'base_model.model.transformer.layers.2.mlp.dense_h_to_4h.bias', 'base_model.model.transformer.layers.2.mlp.dense_4h_to_h.weight', 'base_model.model.transformer.layers.2.mlp.dense_4h_to_h.bias', 'base_model.model.transformer.layers.3.input_layernorm.weight', 'base_model.model.transformer.layers.3.input_layernorm.bias', 'base_model.model.transformer.layers.3.attention.query_key_value.weight', 'base_model.model.transformer.layers.3.attention.query_key_value.bias', 'base_model.model.transformer.layers.3.attention.dense.weight', 'base_model.model.transformer.layers.3.attention.dense.bias', 'base_model.model.transformer.layers.3.post_attention_layernorm.weight', 'base_model.model.transformer.layers.3.post_attention_layernorm.bias', 'base_model.model.transformer.layers.3.mlp.dense_h_to_4h.weight', 'base_model.model.transformer.layers.3.mlp.dense_h_to_4h.bias', 'base_model.model.transformer.layers.3.mlp.dense_4h_to_h.weight', 'base_model.model.transformer.layers.3.mlp.dense_4h_to_h.bias', 'base_model.model.transformer.layers.4.input_layernorm.weight', 'base_model.model.transformer.layers.4.input_layernorm.bias', 'base_model.model.transformer.layers.4.attention.query_key_value.weight', 'base_model.model.transformer.layers.4.attention.query_key_value.bias', 'base_model.model.transformer.layers.4.attention.dense.weight', 'base_model.model.transformer.layers.4.attention.dense.bias', 'base_model.model.transformer.layers.4.post_attention_layernorm.weight', 'base_model.model.transformer.layers.4.post_attention_layernorm.bias', 'base_model.model.transformer.layers.4.mlp.dense_h_to_4h.weight', 'base_model.model.transformer.layers.4.mlp.dense_h_to_4h.bias', 'base_model.model.transformer.layers.4.mlp.dense_4h_to_h.weight', 'base_model.model.transformer.layers.4.mlp.dense_4h_to_h.bias', 'base_model.model.transformer.layers.5.input_layernorm.weight', 'base_model.model.transformer.layers.5.input_layernorm.bias', 'base_model.model.transformer.layers.5.attention.query_key_value.weight', 'base_model.model.transformer.layers.5.attention.query_key_value.bias', 'base_model.model.transformer.layers.5.attention.dense.weight', 'base_model.model.transformer.layers.5.attention.dense.bias', 'base_model.model.transformer.layers.5.post_attention_layernorm.weight', 'base_model.model.transformer.layers.5.post_attention_layernorm.bias', 'base_model.model.transformer.layers.5.mlp.dense_h_to_4h.weight', 'base_model.model.transformer.layers.5.mlp.dense_h_to_4h.bias', 'base_model.model.transformer.layers.5.mlp.dense_4h_to_h.weight', 'base_model.model.transformer.layers.5.mlp.dense_4h_to_h.bias', 'base_model.model.transformer.layers.6.input_layernorm.weight', 'base_model.model.transformer.layers.6.input_layernorm.bias', 'base_model.model.transformer.layers.6.attention.query_key_value.weight', 'base_model.model.transformer.layers.6.attention.query_key_value.bias', 'base_model.model.transformer.layers.6.attention.dense.weight', 'base_model.model.transformer.layers.6.attention.dense.bias', 'base_model.model.transformer.layers.6.post_attention_layernorm.weight', 'base_model.model.transformer.layers.6.post_attention_layernorm.bias', 'base_model.model.transformer.layers.6.mlp.dense_h_to_4h.weight', 'base_model.model.transformer.layers.6.mlp.dense_h_to_4h.bias', 'base_model.model.transformer.layers.6.mlp.dense_4h_to_h.weight', 'base_model.model.transformer.layers.6.mlp.dense_4h_to_h.bias', 'base_model.model.transformer.layers.7.input_layernorm.weight', 'base_model.model.transformer.layers.7.input_layernorm.bias', 'base_model.model.transformer.layers.7.attention.query_key_value.weight', 'base_model.model.transformer.layers.7.attention.query_key_value.bias', 'base_model.model.transformer.layers.7.attention.dense.weight', 'base_model.model.transformer.layers.7.attention.dense.bias', 'base_model.model.transformer.layers.7.post_attention_layernorm.weight', 'base_model.model.transformer.layers.7.post_attention_layernorm.bias', 'base_model.model.transformer.layers.7.mlp.dense_h_to_4h.weight', 'base_model.model.transformer.layers.7.mlp.dense_h_to_4h.bias', 'base_model.model.transformer.layers.7.mlp.dense_4h_to_h.weight', 'base_model.model.transformer.layers.7.mlp.dense_4h_to_h.bias', 'base_model.model.transformer.layers.8.input_layernorm.weight', 'base_model.model.transformer.layers.8.input_layernorm.bias', 'base_model.model.transformer.layers.8.attention.query_key_value.weight', 'base_model.model.transformer.layers.8.attention.query_key_value.bias', 'base_model.model.transformer.layers.8.attention.dense.weight', 'base_model.model.transformer.layers.8.attention.dense.bias', 'base_model.model.transformer.layers.8.post_attention_layernorm.weight', 'base_model.model.transformer.layers.8.post_attention_layernorm.bias', 'base_model.model.transformer.layers.8.mlp.dense_h_to_4h.weight', 'base_model.model.transformer.layers.8.mlp.dense_h_to_4h.bias', 'base_model.model.transformer.layers.8.mlp.dense_4h_to_h.weight', 'base_model.model.transformer.layers.8.mlp.dense_4h_to_h.bias', 'base_model.model.transformer.layers.9.input_layernorm.weight', 'base_model.model.transformer.layers.9.input_layernorm.bias', 'base_model.model.transformer.layers.9.attention.query_key_value.weight', 'base_model.model.transformer.layers.9.attention.query_key_value.bias', 'base_model.model.transformer.layers.9.attention.dense.weight', 'base_model.model.transformer.layers.9.attention.dense.bias', 'base_model.model.transformer.layers.9.post_attention_layernorm.weight', 'base_model.model.transformer.layers.9.post_attention_layernorm.bias', 'base_model.model.transformer.layers.9.mlp.dense_h_to_4h.weight', 'base_model.model.transformer.layers.9.mlp.dense_h_to_4h.bias', 'base_model.model.transformer.layers.9.mlp.dense_4h_to_h.weight', 'base_model.model.transformer.layers.9.mlp.dense_4h_to_h.bias', 'base_model.model.transformer.layers.10.input_layernorm.weight', 'base_model.model.transformer.layers.10.input_layernorm.bias', 'base_model.model.transformer.layers.10.attention.query_key_value.weight', 'base_model.model.transformer.layers.10.attention.query_key_value.bias', 'base_model.model.transformer.layers.10.attention.dense.weight', 'base_model.model.transformer.layers.10.attention.dense.bias', 'base_model.model.transformer.layers.10.post_attention_layernorm.weight', 'base_model.model.transformer.layers.10.post_attention_layernorm.bias', 'base_model.model.transformer.layers.10.mlp.dense_h_to_4h.weight', 'base_model.model.transformer.layers.10.mlp.dense_h_to_4h.bias', 'base_model.model.transformer.layers.10.mlp.dense_4h_to_h.weight', 'base_model.model.transformer.layers.10.mlp.dense_4h_to_h.bias', 'base_model.model.transformer.layers.11.input_layernorm.weight', 'base_model.model.transformer.layers.11.input_layernorm.bias', 'base_model.model.transformer.layers.11.attention.query_key_value.weight', 'base_model.model.transformer.layers.11.attention.query_key_value.bias', 'base_model.model.transformer.layers.11.attention.dense.weight', 'base_model.model.transformer.layers.11.attention.dense.bias', 'base_model.model.transformer.layers.11.post_attention_layernorm.weight', 'base_model.model.transformer.layers.11.post_attention_layernorm.bias', 'base_model.model.transformer.layers.11.mlp.dense_h_to_4h.weight', 'base_model.model.transformer.layers.11.mlp.dense_h_to_4h.bias', 'base_model.model.transformer.layers.11.mlp.dense_4h_to_h.weight', 'base_model.model.transformer.layers.11.mlp.dense_4h_to_h.bias', 'base_model.model.transformer.layers.12.input_layernorm.weight', 'base_model.model.transformer.layers.12.input_layernorm.bias', 'base_model.model.transformer.layers.12.attention.query_key_value.weight', 'base_model.model.transformer.layers.12.attention.query_key_value.bias', 'base_model.model.transformer.layers.12.attention.dense.weight', 'base_model.model.transformer.layers.12.attention.dense.bias', 'base_model.model.transformer.layers.12.post_attention_layernorm.weight', 'base_model.model.transformer.layers.12.post_attention_layernorm.bias', 'base_model.model.transformer.layers.12.mlp.dense_h_to_4h.weight', 'base_model.model.transformer.layers.12.mlp.dense_h_to_4h.bias', 'base_model.model.transformer.layers.12.mlp.dense_4h_to_h.weight', 'base_model.model.transformer.layers.12.mlp.dense_4h_to_h.bias', 'base_model.model.transformer.layers.13.input_layernorm.weight', 'base_model.model.transformer.layers.13.input_layernorm.bias', 'base_model.model.transformer.layers.13.attention.query_key_value.weight', 'base_model.model.transformer.layers.13.attention.query_key_value.bias', 'base_model.model.transformer.layers.13.attention.dense.weight', 'base_model.model.transformer.layers.13.attention.dense.bias', 'base_model.model.transformer.layers.13.post_attention_layernorm.weight', 'base_model.model.transformer.layers.13.post_attention_layernorm.bias', 'base_model.model.transformer.layers.13.mlp.dense_h_to_4h.weight', 'base_model.model.transformer.layers.13.mlp.dense_h_to_4h.bias', 'base_model.model.transformer.layers.13.mlp.dense_4h_to_h.weight', 'base_model.model.transformer.layers.13.mlp.dense_4h_to_h.bias', 'base_model.model.transformer.layers.14.input_layernorm.weight', 'base_model.model.transformer.layers.14.input_layernorm.bias', 'base_model.model.transformer.layers.14.attention.query_key_value.weight', 'base_model.model.transformer.layers.14.attention.query_key_value.bias', 'base_model.model.transformer.layers.14.attention.dense.weight', 'base_model.model.transformer.layers.14.attention.dense.bias', 'base_model.model.transformer.layers.14.post_attention_layernorm.weight', 'base_model.model.transformer.layers.14.post_attention_layernorm.bias', 'base_model.model.transformer.layers.14.mlp.dense_h_to_4h.weight', 'base_model.model.transformer.layers.14.mlp.dense_h_to_4h.bias', 'base_model.model.transformer.layers.14.mlp.dense_4h_to_h.weight', 'base_model.model.transformer.layers.14.mlp.dense_4h_to_h.bias', 'base_model.model.transformer.layers.15.input_layernorm.weight', 'base_model.model.transformer.layers.15.input_layernorm.bias', 'base_model.model.transformer.layers.15.attention.query_key_value.weight', 'base_model.model.transformer.layers.15.attention.query_key_value.bias', 'base_model.model.transformer.layers.15.attention.dense.weight', 'base_model.model.transformer.layers.15.attention.dense.bias', 'base_model.model.transformer.layers.15.post_attention_layernorm.weight', 'base_model.model.transformer.layers.15.post_attention_layernorm.bias', 'base_model.model.transformer.layers.15.mlp.dense_h_to_4h.weight', 'base_model.model.transformer.layers.15.mlp.dense_h_to_4h.bias', 'base_model.model.transformer.layers.15.mlp.dense_4h_to_h.weight', 'base_model.model.transformer.layers.15.mlp.dense_4h_to_h.bias', 'base_model.model.transformer.layers.16.input_layernorm.weight', 'base_model.model.transformer.layers.16.input_layernorm.bias', 'base_model.model.transformer.layers.16.attention.query_key_value.weight', 'base_model.model.transformer.layers.16.attention.query_key_value.bias', 'base_model.model.transformer.layers.16.attention.dense.weight', 'base_model.model.transformer.layers.16.attention.dense.bias', 'base_model.model.transformer.layers.16.post_attention_layernorm.weight', 'base_model.model.transformer.layers.16.post_attention_layernorm.bias', 'base_model.model.transformer.layers.16.mlp.dense_h_to_4h.weight', 'base_model.model.transformer.layers.16.mlp.dense_h_to_4h.bias', 'base_model.model.transformer.layers.16.mlp.dense_4h_to_h.weight', 'base_model.model.transformer.layers.16.mlp.dense_4h_to_h.bias', 'base_model.model.transformer.layers.17.input_layernorm.weight', 'base_model.model.transformer.layers.17.input_layernorm.bias', 'base_model.model.transformer.layers.17.attention.query_key_value.weight', 'base_model.model.transformer.layers.17.attention.query_key_value.bias', 'base_model.model.transformer.layers.17.attention.dense.weight', 'base_model.model.transformer.layers.17.attention.dense.bias', 'base_model.model.transformer.layers.17.post_attention_layernorm.weight', 'base_model.model.transformer.layers.17.post_attention_layernorm.bias', 'base_model.model.transformer.layers.17.mlp.dense_h_to_4h.weight', 'base_model.model.transformer.layers.17.mlp.dense_h_to_4h.bias', 'base_model.model.transformer.layers.17.mlp.dense_4h_to_h.weight', 'base_model.model.transformer.layers.17.mlp.dense_4h_to_h.bias', 'base_model.model.transformer.layers.18.input_layernorm.weight', 'base_model.model.transformer.layers.18.input_layernorm.bias', 'base_model.model.transformer.layers.18.attention.query_key_value.weight', 'base_model.model.transformer.layers.18.attention.query_key_value.bias', 'base_model.model.transformer.layers.18.attention.dense.weight', 'base_model.model.transformer.layers.18.attention.dense.bias', 'base_model.model.transformer.layers.18.post_attention_layernorm.weight', 'base_model.model.transformer.layers.18.post_attention_layernorm.bias', 'base_model.model.transformer.layers.18.mlp.dense_h_to_4h.weight', 'base_model.model.transformer.layers.18.mlp.dense_h_to_4h.bias', 'base_model.model.transformer.layers.18.mlp.dense_4h_to_h.weight', 'base_model.model.transformer.layers.18.mlp.dense_4h_to_h.bias', 'base_model.model.transformer.layers.19.input_layernorm.weight', 'base_model.model.transformer.layers.19.input_layernorm.bias', 'base_model.model.transformer.layers.19.attention.query_key_value.weight', 'base_model.model.transformer.layers.19.attention.query_key_value.bias', 'base_model.model.transformer.layers.19.attention.dense.weight', 'base_model.model.transformer.layers.19.attention.dense.bias', 'base_model.model.transformer.layers.19.post_attention_layernorm.weight', 'base_model.model.transformer.layers.19.post_attention_layernorm.bias', 'base_model.model.transformer.layers.19.mlp.dense_h_to_4h.weight', 'base_model.model.transformer.layers.19.mlp.dense_h_to_4h.bias', 'base_model.model.transformer.layers.19.mlp.dense_4h_to_h.weight', 'base_model.model.transformer.layers.19.mlp.dense_4h_to_h.bias', 'base_model.model.transformer.layers.20.input_layernorm.weight', 'base_model.model.transformer.layers.20.input_layernorm.bias', 'base_model.model.transformer.layers.20.attention.query_key_value.weight', 'base_model.model.transformer.layers.20.attention.query_key_value.bias', 'base_model.model.transformer.layers.20.attention.dense.weight', 'base_model.model.transformer.layers.20.attention.dense.bias', 'base_model.model.transformer.layers.20.post_attention_layernorm.weight', 'base_model.model.transformer.layers.20.post_attention_layernorm.bias', 'base_model.model.transformer.layers.20.mlp.dense_h_to_4h.weight', 'base_model.model.transformer.layers.20.mlp.dense_h_to_4h.bias', 'base_model.model.transformer.layers.20.mlp.dense_4h_to_h.weight', 'base_model.model.transformer.layers.20.mlp.dense_4h_to_h.bias', 'base_model.model.transformer.layers.21.input_layernorm.weight', 'base_model.model.transformer.layers.21.input_layernorm.bias', 'base_model.model.transformer.layers.21.attention.query_key_value.weight', 'base_model.model.transformer.layers.21.attention.query_key_value.bias', 'base_model.model.transformer.layers.21.attention.dense.weight', 'base_model.model.transformer.layers.21.attention.dense.bias', 'base_model.model.transformer.layers.21.post_attention_layernorm.weight', 'base_model.model.transformer.layers.21.post_attention_layernorm.bias', 'base_model.model.transformer.layers.21.mlp.dense_h_to_4h.weight', 'base_model.model.transformer.layers.21.mlp.dense_h_to_4h.bias', 'base_model.model.transformer.layers.21.mlp.dense_4h_to_h.weight', 'base_model.model.transformer.layers.21.mlp.dense_4h_to_h.bias', 'base_model.model.transformer.layers.22.input_layernorm.weight', 'base_model.model.transformer.layers.22.input_layernorm.bias', 'base_model.model.transformer.layers.22.attention.query_key_value.weight', 'base_model.model.transformer.layers.22.attention.query_key_value.bias', 'base_model.model.transformer.layers.22.attention.dense.weight', 'base_model.model.transformer.layers.22.attention.dense.bias', 'base_model.model.transformer.layers.22.post_attention_layernorm.weight', 'base_model.model.transformer.layers.22.post_attention_layernorm.bias', 'base_model.model.transformer.layers.22.mlp.dense_h_to_4h.weight', 'base_model.model.transformer.layers.22.mlp.dense_h_to_4h.bias', 'base_model.model.transformer.layers.22.mlp.dense_4h_to_h.weight', 'base_model.model.transformer.layers.22.mlp.dense_4h_to_h.bias', 'base_model.model.transformer.layers.23.input_layernorm.weight', 'base_model.model.transformer.layers.23.input_layernorm.bias', 'base_model.model.transformer.layers.23.attention.query_key_value.weight', 'base_model.model.transformer.layers.23.attention.query_key_value.bias', 'base_model.model.transformer.layers.23.attention.dense.weight', 'base_model.model.transformer.layers.23.attention.dense.bias', 'base_model.model.transformer.layers.23.post_attention_layernorm.weight', 'base_model.model.transformer.layers.23.post_attention_layernorm.bias', 'base_model.model.transformer.layers.23.mlp.dense_h_to_4h.weight', 'base_model.model.transformer.layers.23.mlp.dense_h_to_4h.bias', 'base_model.model.transformer.layers.23.mlp.dense_4h_to_h.weight', 'base_model.model.transformer.layers.23.mlp.dense_4h_to_h.bias', 'base_model.model.transformer.layers.24.input_layernorm.weight', 'base_model.model.transformer.layers.24.input_layernorm.bias', 'base_model.model.transformer.layers.24.attention.query_key_value.weight', 'base_model.model.transformer.layers.24.attention.query_key_value.bias', 'base_model.model.transformer.layers.24.attention.dense.weight', 'base_model.model.transformer.layers.24.attention.dense.bias', 'base_model.model.transformer.layers.24.post_attention_layernorm.weight', 'base_model.model.transformer.layers.24.post_attention_layernorm.bias', 'base_model.model.transformer.layers.24.mlp.dense_h_to_4h.weight', 'base_model.model.transformer.layers.24.mlp.dense_h_to_4h.bias', 'base_model.model.transformer.layers.24.mlp.dense_4h_to_h.weight', 'base_model.model.transformer.layers.24.mlp.dense_4h_to_h.bias', 'base_model.model.transformer.layers.25.input_layernorm.weight', 'base_model.model.transformer.layers.25.input_layernorm.bias', 'base_model.model.transformer.layers.25.attention.query_key_value.weight', 'base_model.model.transformer.layers.25.attention.query_key_value.bias', 'base_model.model.transformer.layers.25.attention.dense.weight', 'base_model.model.transformer.layers.25.attention.dense.bias', 'base_model.model.transformer.layers.25.post_attention_layernorm.weight', 'base_model.model.transformer.layers.25.post_attention_layernorm.bias', 'base_model.model.transformer.layers.25.mlp.dense_h_to_4h.weight', 'base_model.model.transformer.layers.25.mlp.dense_h_to_4h.bias', 'base_model.model.transformer.layers.25.mlp.dense_4h_to_h.weight', 'base_model.model.transformer.layers.25.mlp.dense_4h_to_h.bias', 'base_model.model.transformer.layers.26.input_layernorm.weight', 'base_model.model.transformer.layers.26.input_layernorm.bias', 'base_model.model.transformer.layers.26.attention.query_key_value.weight', 'base_model.model.transformer.layers.26.attention.query_key_value.bias', 'base_model.model.transformer.layers.26.attention.dense.weight', 'base_model.model.transformer.layers.26.attention.dense.bias', 'base_model.model.transformer.layers.26.post_attention_layernorm.weight', 'base_model.model.transformer.layers.26.post_attention_layernorm.bias', 'base_model.model.transformer.layers.26.mlp.dense_h_to_4h.weight', 'base_model.model.transformer.layers.26.mlp.dense_h_to_4h.bias', 'base_model.model.transformer.layers.26.mlp.dense_4h_to_h.weight', 'base_model.model.transformer.layers.26.mlp.dense_4h_to_h.bias', 'base_model.model.transformer.layers.27.input_layernorm.weight', 'base_model.model.transformer.layers.27.input_layernorm.bias', 'base_model.model.transformer.layers.27.attention.query_key_value.weight', 'base_model.model.transformer.layers.27.attention.query_key_value.bias', 'base_model.model.transformer.layers.27.attention.dense.weight', 'base_model.model.transformer.layers.27.attention.dense.bias', 'base_model.model.transformer.layers.27.post_attention_layernorm.weight', 'base_model.model.transformer.layers.27.post_attention_layernorm.bias', 'base_model.model.transformer.layers.27.mlp.dense_h_to_4h.weight', 'base_model.model.transformer.layers.27.mlp.dense_h_to_4h.bias', 'base_model.model.transformer.layers.27.mlp.dense_4h_to_h.weight', 'base_model.model.transformer.layers.27.mlp.dense_4h_to_h.bias', 'base_model.model.transformer.final_layernorm.weight', 'base_model.model.transformer.final_layernorm.bias', 'base_model.model.lm_head.weight'], unexpected_keys=[])"
      ]
     },
     "execution_count": 4,
     "metadata": {},
     "output_type": "execute_result"
    }
   ],
   "source": [
    "model.load_state_dict(torch.load(f\"fituned-chatglm6b-20230420/chatglm-6b-lora.pt\"), strict=False)"
   ]
  },
  {
   "cell_type": "code",
   "execution_count": 6,
   "id": "e5f9c4de",
   "metadata": {
    "ExecuteTime": {
     "end_time": "2023-04-20T11:53:23.553149Z",
     "start_time": "2023-04-20T11:53:20.258945Z"
    }
   },
   "outputs": [
    {
     "name": "stdout",
     "output_type": "stream",
     "text": [
      "市卫健委将审核申报资料，并结合市区新型冠状病毒核酸检测需求进行综合评估。经评估，具备相应资质和条件的，纳入我市开展新型冠状病毒核酸检测机构名单，并通知进行新型冠状病毒实验活动备案。\n"
     ]
    }
   ],
   "source": [
    "model.half().cuda().eval()\n",
    "response, history = model.chat(tokenizer, \"核酸检测机构需要什么资质\", history=[])\n",
    "print(response)"
   ]
  },
  {
   "cell_type": "code",
   "execution_count": null,
   "id": "b7d8c43d",
   "metadata": {},
   "outputs": [],
   "source": []
  }
 ],
 "metadata": {
  "kernelspec": {
   "display_name": "Python 3 (ipykernel)",
   "language": "python",
   "name": "python3"
  },
  "language_info": {
   "codemirror_mode": {
    "name": "ipython",
    "version": 3
   },
   "file_extension": ".py",
   "mimetype": "text/x-python",
   "name": "python",
   "nbconvert_exporter": "python",
   "pygments_lexer": "ipython3",
   "version": "3.8.10"
  },
  "toc": {
   "base_numbering": 1,
   "nav_menu": {},
   "number_sections": true,
   "sideBar": true,
   "skip_h1_title": false,
   "title_cell": "Table of Contents",
   "title_sidebar": "Contents",
   "toc_cell": false,
   "toc_position": {},
   "toc_section_display": true,
   "toc_window_display": true
  },
  "varInspector": {
   "cols": {
    "lenName": 16,
    "lenType": 16,
    "lenVar": 40
   },
   "kernels_config": {
    "python": {
     "delete_cmd_postfix": "",
     "delete_cmd_prefix": "del ",
     "library": "var_list.py",
     "varRefreshCmd": "print(var_dic_list())"
    },
    "r": {
     "delete_cmd_postfix": ") ",
     "delete_cmd_prefix": "rm(",
     "library": "var_list.r",
     "varRefreshCmd": "cat(var_dic_list()) "
    }
   },
   "types_to_exclude": [
    "module",
    "function",
    "builtin_function_or_method",
    "instance",
    "_Feature"
   ],
   "window_display": false
  }
 },
 "nbformat": 4,
 "nbformat_minor": 5
}
